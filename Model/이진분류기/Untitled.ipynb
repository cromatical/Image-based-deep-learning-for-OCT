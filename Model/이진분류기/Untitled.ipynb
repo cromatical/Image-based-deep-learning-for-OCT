{
 "cells": [
  {
   "cell_type": "code",
   "execution_count": 1,
   "metadata": {},
   "outputs": [
    {
     "name": "stderr",
     "output_type": "stream",
     "text": [
      "Using TensorFlow backend.\n"
     ]
    }
   ],
   "source": [
    "import numpy as np\n",
    "from PIL import Image\n",
    "import glob\n",
    "\n",
    "def image_processing(img, color, w, h, chanel):\n",
    "    img = Image.open(img)\n",
    "    img = img.convert(color)\n",
    "    img = img.resize((w,h))\n",
    "    data = np.asarray(img)\n",
    "    data = data.reshape((1,w,h,chanel))\n",
    "    data = data / 255\n",
    "    return data\n",
    "\n",
    "test_path = \"D:/OCT Project/OCT-Image/total1/test/\"\n",
    "categories = ['CNV', 'DME', 'DRUSEN', 'NORMAL']\n",
    "\n",
    "from keras.models import load_model\n",
    "model_path = 'D:/OCT Project/OCT-Image/이진분류기/두번째 모델/'\n",
    "model1 = load_model(model_path + 'normal_binary.h5')\n",
    "model2 = load_model(model_path + 'CNV_binary.h5')\n",
    "model3 = load_model(model_path + 'DME_binary.h5')\n",
    "model4 = load_model(model_path + 'DRUSEN_binary.h5')"
   ]
  },
  {
   "cell_type": "code",
   "execution_count": 2,
   "metadata": {},
   "outputs": [
    {
     "name": "stdout",
     "output_type": "stream",
     "text": [
      "1\n"
     ]
    }
   ],
   "source": [
    "for idx, categorie in enumerate(categories):    \n",
    "    files = glob.glob(test_path + categorie + \"/*\") \n",
    "\n",
    "     for idx2, file in enumerate(files):\n",
    "        vote = []\n",
    "        data = image_processing(file, 'L', 299, 299, 1)\n",
    "        check_normal = model1.predict_classes(data) \n",
    "        check_cnv = model2.predict_classes(data) \n",
    "        check_dme = model3.predict_classes(data) \n",
    "        check_drusen = model4.predict_classes(data) \n",
    "        \n",
    "        if check_normal[0] == 0:\n",
    "            vote.append(1 * 0.88)\n",
    "        if check_normal[0] == 0:\n",
    "            vote.append(1 * 0.9)\n",
    "        if check_normal[0] == 0:\n",
    "            vote.append(1 * 0.65)\n",
    "        if check_normal[0] == 0:\n",
    "            vote.append(1 * 0.35)"
   ]
  }
 ],
 "metadata": {
  "kernelspec": {
   "display_name": "Python 3",
   "language": "python",
   "name": "python3"
  },
  "language_info": {
   "codemirror_mode": {
    "name": "ipython",
    "version": 3
   },
   "file_extension": ".py",
   "mimetype": "text/x-python",
   "name": "python",
   "nbconvert_exporter": "python",
   "pygments_lexer": "ipython3",
   "version": "3.7.6"
  }
 },
 "nbformat": 4,
 "nbformat_minor": 4
}
